{
  "nbformat": 4,
  "nbformat_minor": 0,
  "metadata": {
    "colab": {
      "provenance": [],
      "authorship_tag": "ABX9TyOw9d2mfEClgHrJD1dJXiG5",
      "include_colab_link": true
    },
    "kernelspec": {
      "name": "python3",
      "display_name": "Python 3"
    },
    "language_info": {
      "name": "python"
    }
  },
  "cells": [
    {
      "cell_type": "markdown",
      "metadata": {
        "id": "view-in-github",
        "colab_type": "text"
      },
      "source": [
        "<a href=\"https://colab.research.google.com/github/MikhailBolt/school_DS/blob/main/%D0%A8%D0%BA%D0%BE%D0%BB%D0%B0_DS_%D0%97%D0%B0%D0%B4%D0%B0%D0%BD%D0%B8%D0%B5_3_%5B%D0%91%D0%BE%D0%BB%D1%82%D1%8B%D1%88%D0%B5%D0%B2_%D0%9C%D0%B8%D1%85%D0%B0%D0%B8%D0%BB%5D.ipynb\" target=\"_parent\"><img src=\"https://colab.research.google.com/assets/colab-badge.svg\" alt=\"Open In Colab\"/></a>"
      ]
    },
    {
      "cell_type": "markdown",
      "source": [
        "Домашнее задание\n",
        "\n",
        "Задание по визуализиации на python\n",
        "* Используя данные об объектах недвижимости на сайте \"наш.дом.рф\" или cian.ru, провести мини-исследование рынка строящейся/готовой недвижимости в одном или нескольких регионах с помощью pandas, matplotlib, seaborn, plotly и других инструментов. Идеи для мини-исследования * Рассчитать средние цены за квадратный метр по регионам. Важно чтобы пропуски не учитывались при расчете средней цены. * Рассчитать объемы вводимого жилья по регионам и по годам. * Сравнить этажность домов, количество квартир, жилую площадь, количество парковочных мест и цену за квадратный метр в разных регионах. * Визуализировать разброс, связь, доли, распределение этих показателей по регионам. * Сделать выводы по каждому из расчетов и графиков"
      ],
      "metadata": {
        "id": "LIGVK5enLxjc"
      }
    },
    {
      "cell_type": "code",
      "source": [
        "pip install git+https://github.com/lenarsaitov/cianparser.git"
      ],
      "metadata": {
        "colab": {
          "base_uri": "https://localhost:8080/"
        },
        "collapsed": true,
        "id": "QjOZgDRBU6UM",
        "outputId": "01b14ba7-3390-4fb5-83bd-dcbb422e92f4"
      },
      "execution_count": null,
      "outputs": [
        {
          "output_type": "stream",
          "name": "stdout",
          "text": [
            "Collecting git+https://github.com/lenarsaitov/cianparser.git\n",
            "  Cloning https://github.com/lenarsaitov/cianparser.git to /tmp/pip-req-build-iow4s3lq\n",
            "  Running command git clone --filter=blob:none --quiet https://github.com/lenarsaitov/cianparser.git /tmp/pip-req-build-iow4s3lq\n",
            "  Resolved https://github.com/lenarsaitov/cianparser.git to commit 236352a200b08b27c24d14b18939b4c34691cbb2\n",
            "  Preparing metadata (setup.py) ... \u001b[?25l\u001b[?25hdone\n",
            "Collecting cloudscraper (from cianparser==1.0.4)\n",
            "  Downloading cloudscraper-1.2.71-py2.py3-none-any.whl (99 kB)\n",
            "\u001b[2K     \u001b[90m━━━━━━━━━━━━━━━━━━━━━━━━━━━━━━━━━━━━━━━━\u001b[0m \u001b[32m99.7/99.7 kB\u001b[0m \u001b[31m1.1 MB/s\u001b[0m eta \u001b[36m0:00:00\u001b[0m\n",
            "\u001b[?25hRequirement already satisfied: beautifulsoup4 in /usr/local/lib/python3.10/dist-packages (from cianparser==1.0.4) (4.12.3)\n",
            "Collecting transliterate (from cianparser==1.0.4)\n",
            "  Downloading transliterate-1.10.2-py2.py3-none-any.whl (45 kB)\n",
            "\u001b[2K     \u001b[90m━━━━━━━━━━━━━━━━━━━━━━━━━━━━━━━━━━━━━━━━\u001b[0m \u001b[32m45.8/45.8 kB\u001b[0m \u001b[31m4.6 MB/s\u001b[0m eta \u001b[36m0:00:00\u001b[0m\n",
            "\u001b[?25hRequirement already satisfied: lxml in /usr/local/lib/python3.10/dist-packages (from cianparser==1.0.4) (4.9.4)\n",
            "Collecting datetime (from cianparser==1.0.4)\n",
            "  Downloading DateTime-5.5-py3-none-any.whl (52 kB)\n",
            "\u001b[2K     \u001b[90m━━━━━━━━━━━━━━━━━━━━━━━━━━━━━━━━━━━━━━━━\u001b[0m \u001b[32m52.6/52.6 kB\u001b[0m \u001b[31m5.0 MB/s\u001b[0m eta \u001b[36m0:00:00\u001b[0m\n",
            "\u001b[?25hRequirement already satisfied: soupsieve>1.2 in /usr/local/lib/python3.10/dist-packages (from beautifulsoup4->cianparser==1.0.4) (2.5)\n",
            "Requirement already satisfied: pyparsing>=2.4.7 in /usr/local/lib/python3.10/dist-packages (from cloudscraper->cianparser==1.0.4) (3.1.2)\n",
            "Requirement already satisfied: requests>=2.9.2 in /usr/local/lib/python3.10/dist-packages (from cloudscraper->cianparser==1.0.4) (2.31.0)\n",
            "Collecting requests-toolbelt>=0.9.1 (from cloudscraper->cianparser==1.0.4)\n",
            "  Downloading requests_toolbelt-1.0.0-py2.py3-none-any.whl (54 kB)\n",
            "\u001b[2K     \u001b[90m━━━━━━━━━━━━━━━━━━━━━━━━━━━━━━━━━━━━━━━━\u001b[0m \u001b[32m54.5/54.5 kB\u001b[0m \u001b[31m4.7 MB/s\u001b[0m eta \u001b[36m0:00:00\u001b[0m\n",
            "\u001b[?25hCollecting zope.interface (from datetime->cianparser==1.0.4)\n",
            "  Downloading zope.interface-6.4.post2-cp310-cp310-manylinux_2_5_x86_64.manylinux1_x86_64.manylinux_2_17_x86_64.manylinux2014_x86_64.whl (247 kB)\n",
            "\u001b[2K     \u001b[90m━━━━━━━━━━━━━━━━━━━━━━━━━━━━━━━━━━━━━━━━\u001b[0m \u001b[32m247.8/247.8 kB\u001b[0m \u001b[31m4.7 MB/s\u001b[0m eta \u001b[36m0:00:00\u001b[0m\n",
            "\u001b[?25hRequirement already satisfied: pytz in /usr/local/lib/python3.10/dist-packages (from datetime->cianparser==1.0.4) (2023.4)\n",
            "Requirement already satisfied: six>=1.1.0 in /usr/local/lib/python3.10/dist-packages (from transliterate->cianparser==1.0.4) (1.16.0)\n",
            "Requirement already satisfied: charset-normalizer<4,>=2 in /usr/local/lib/python3.10/dist-packages (from requests>=2.9.2->cloudscraper->cianparser==1.0.4) (3.3.2)\n",
            "Requirement already satisfied: idna<4,>=2.5 in /usr/local/lib/python3.10/dist-packages (from requests>=2.9.2->cloudscraper->cianparser==1.0.4) (3.7)\n",
            "Requirement already satisfied: urllib3<3,>=1.21.1 in /usr/local/lib/python3.10/dist-packages (from requests>=2.9.2->cloudscraper->cianparser==1.0.4) (2.0.7)\n",
            "Requirement already satisfied: certifi>=2017.4.17 in /usr/local/lib/python3.10/dist-packages (from requests>=2.9.2->cloudscraper->cianparser==1.0.4) (2024.7.4)\n",
            "Requirement already satisfied: setuptools in /usr/local/lib/python3.10/dist-packages (from zope.interface->datetime->cianparser==1.0.4) (67.7.2)\n",
            "Building wheels for collected packages: cianparser\n",
            "  Building wheel for cianparser (setup.py) ... \u001b[?25l\u001b[?25hdone\n",
            "  Created wheel for cianparser: filename=cianparser-1.0.4-py3-none-any.whl size=32588 sha256=fcdd8940df77abbabfed0d7207dd3530393fd49a1bc7f391358bd0302594e86d\n",
            "  Stored in directory: /tmp/pip-ephem-wheel-cache-fdbnmdvp/wheels/64/64/3f/e86213cad6536b6d261071ce219f1770b4a3975bfb01cba713\n",
            "Successfully built cianparser\n",
            "Installing collected packages: zope.interface, transliterate, requests-toolbelt, datetime, cloudscraper, cianparser\n",
            "Successfully installed cianparser-1.0.4 cloudscraper-1.2.71 datetime-5.5 requests-toolbelt-1.0.0 transliterate-1.10.2 zope.interface-6.4.post2\n"
          ]
        }
      ]
    },
    {
      "cell_type": "code",
      "source": [
        "pip install pandas sqlalchemy openpyxl"
      ],
      "metadata": {
        "colab": {
          "base_uri": "https://localhost:8080/"
        },
        "id": "aruZk7nAYa2N",
        "outputId": "6641a229-3a15-4a89-8ab4-f5f2728334d0"
      },
      "execution_count": null,
      "outputs": [
        {
          "output_type": "stream",
          "name": "stdout",
          "text": [
            "Requirement already satisfied: pandas in /usr/local/lib/python3.10/dist-packages (2.0.3)\n",
            "Requirement already satisfied: sqlalchemy in /usr/local/lib/python3.10/dist-packages (2.0.31)\n",
            "Requirement already satisfied: openpyxl in /usr/local/lib/python3.10/dist-packages (3.1.5)\n",
            "Requirement already satisfied: python-dateutil>=2.8.2 in /usr/local/lib/python3.10/dist-packages (from pandas) (2.8.2)\n",
            "Requirement already satisfied: pytz>=2020.1 in /usr/local/lib/python3.10/dist-packages (from pandas) (2023.4)\n",
            "Requirement already satisfied: tzdata>=2022.1 in /usr/local/lib/python3.10/dist-packages (from pandas) (2024.1)\n",
            "Requirement already satisfied: numpy>=1.21.0 in /usr/local/lib/python3.10/dist-packages (from pandas) (1.25.2)\n",
            "Requirement already satisfied: typing-extensions>=4.6.0 in /usr/local/lib/python3.10/dist-packages (from sqlalchemy) (4.12.2)\n",
            "Requirement already satisfied: greenlet!=0.4.17 in /usr/local/lib/python3.10/dist-packages (from sqlalchemy) (3.0.3)\n",
            "Requirement already satisfied: et-xmlfile in /usr/local/lib/python3.10/dist-packages (from openpyxl) (1.1.0)\n",
            "Requirement already satisfied: six>=1.5 in /usr/local/lib/python3.10/dist-packages (from python-dateutil>=2.8.2->pandas) (1.16.0)\n"
          ]
        }
      ]
    },
    {
      "cell_type": "code",
      "source": [
        "import cianparser\n",
        "import pandas as pd\n",
        "import pickle\n",
        "from sqlalchemy import create_engine"
      ],
      "metadata": {
        "id": "t-c2J3YbTZ2z"
      },
      "execution_count": null,
      "outputs": []
    },
    {
      "cell_type": "code",
      "source": [
        "# Создаем экземпляр CianParser для Москвы\n",
        "moscow_parser = cianparser.CianParser(location=\"Москва\")"
      ],
      "metadata": {
        "id": "TzoTopS-YBa4"
      },
      "execution_count": null,
      "outputs": []
    },
    {
      "cell_type": "code",
      "source": [
        "# Собираем данные о продаже квартир с 1 по 20 страницу\n",
        "data = moscow_parser.get_flats(deal_type=\"sale\", rooms=(1, 2), with_saving_csv=False, additional_settings={\"start_page\": 1, \"end_page\": 20})"
      ],
      "metadata": {
        "colab": {
          "base_uri": "https://localhost:8080/"
        },
        "id": "t69Gy65WYC5R",
        "outputId": "9e7ff9fd-c828-4399-e285-fabd657c2ecf",
        "collapsed": true
      },
      "execution_count": null,
      "outputs": [
        {
          "output_type": "stream",
          "name": "stdout",
          "text": [
            "\n",
            "                              Preparing to collect information from pages..\n",
            "The page from which the collection of information begins: \n",
            " https://cian.ru/cat.php?engine_version=2&p=1&with_neighbors=0&region=1&deal_type=sale&offer_type=flat&room1=1&room2=1\n",
            "\n",
            "Collecting information from pages with list of offers\n",
            "\n",
            "\n",
            "\n",
            "\n",
            "\n",
            "\n",
            "\n",
            "\n",
            "\n",
            "\n",
            "\n",
            "\n",
            "\n",
            "\n",
            "\n",
            "\n",
            "\n",
            "\n",
            "\n",
            "\n",
            "\n",
            "The collection of information from the pages with list of offers is completed\n",
            "Total number of parsed offers: 494. \n"
          ]
        }
      ]
    },
    {
      "cell_type": "code",
      "source": [
        "# Преобразуем данные в DataFrame\n",
        "df = pd.DataFrame(data)\n",
        "\n",
        "# Предварительный просмотр данных\n",
        "print(df.head())\n",
        "print(df.info())"
      ],
      "metadata": {
        "id": "ac1cAUZsYEzs",
        "colab": {
          "base_uri": "https://localhost:8080/"
        },
        "outputId": "1c53e6df-cd86-4027-8655-3487302dedf5"
      },
      "execution_count": null,
      "outputs": [
        {
          "output_type": "stream",
          "name": "stdout",
          "text": [
            "            author        author_type  \\\n",
            "0           VESPER          developer   \n",
            "1     ID 108172779  real_estate_agent   \n",
            "2  Дмитрий Воронин            realtor   \n",
            "3        Главстрой          developer   \n",
            "4          SHOW ME  real_estate_agent   \n",
            "\n",
            "                                        url location deal_type  \\\n",
            "0  https://www.cian.ru/sale/flat/262519758/   Москва      sale   \n",
            "1  https://www.cian.ru/sale/flat/301496936/   Москва      sale   \n",
            "2  https://www.cian.ru/sale/flat/304642640/   Москва      sale   \n",
            "3  https://www.cian.ru/sale/flat/301772281/   Москва      sale   \n",
            "4  https://www.cian.ru/sale/flat/302081797/   Москва      sale   \n",
            "\n",
            "  accommodation_type  floor  floors_count  rooms_count  total_meters  \\\n",
            "0               flat      5            21            2        110.60   \n",
            "1               flat      7             8            1         53.20   \n",
            "2               flat      6             9            2         40.00   \n",
            "3               flat      2             8            2         48.83   \n",
            "4               flat      2            10            2         69.40   \n",
            "\n",
            "   price_per_month  commissions        price     district              street  \\\n",
            "0               -1            0  103787040.0  Пресненский           Костикова   \n",
            "1               -1            0   58786000.0    Таганский  Славянская площадь   \n",
            "2               -1            0   16500000.0                  Инженера Кнорре   \n",
            "3               -1            0   24219680.0     Котловка                31/2   \n",
            "4               -1            0   85000000.0     Тверской              Палиха   \n",
            "\n",
            "  house_number      underground       residential_complex  \n",
            "0          4к1  Улица 1905 года                     Lucky  \n",
            "1        2/5с1      Китай-город                     LUMIN  \n",
            "2          7к1        Румянцево                            \n",
            "3         31/2      Профсоюзная        Новые Академики ЖК  \n",
            "4            4    Менделеевская  Клубный дом Maison Rouge  \n",
            "<class 'pandas.core.frame.DataFrame'>\n",
            "RangeIndex: 494 entries, 0 to 493\n",
            "Data columns (total 18 columns):\n",
            " #   Column               Non-Null Count  Dtype  \n",
            "---  ------               --------------  -----  \n",
            " 0   author               494 non-null    object \n",
            " 1   author_type          494 non-null    object \n",
            " 2   url                  494 non-null    object \n",
            " 3   location             494 non-null    object \n",
            " 4   deal_type            494 non-null    object \n",
            " 5   accommodation_type   494 non-null    object \n",
            " 6   floor                494 non-null    int64  \n",
            " 7   floors_count         494 non-null    int64  \n",
            " 8   rooms_count          494 non-null    int64  \n",
            " 9   total_meters         494 non-null    float64\n",
            " 10  price_per_month      494 non-null    int64  \n",
            " 11  commissions          494 non-null    int64  \n",
            " 12  price                485 non-null    float64\n",
            " 13  district             494 non-null    object \n",
            " 14  street               494 non-null    object \n",
            " 15  house_number         494 non-null    object \n",
            " 16  underground          494 non-null    object \n",
            " 17  residential_complex  494 non-null    object \n",
            "dtypes: float64(2), int64(5), object(11)\n",
            "memory usage: 69.6+ KB\n",
            "None\n"
          ]
        }
      ]
    },
    {
      "cell_type": "markdown",
      "source": [
        "# Сохранение DataFrame в различные форматы"
      ],
      "metadata": {
        "id": "aZHrsSq1YHAZ"
      }
    },
    {
      "cell_type": "code",
      "source": [
        "# 1. Сохранение в CSV\n",
        "df.to_csv('real_estate_data.csv', index=False)"
      ],
      "metadata": {
        "id": "ueNvdTKQYFeJ"
      },
      "execution_count": null,
      "outputs": []
    },
    {
      "cell_type": "code",
      "source": [
        "# 2. Сохранение в Excel\n",
        "df.to_excel('real_estate_data.xlsx', index=False)"
      ],
      "metadata": {
        "id": "VxacgGwRUhU3"
      },
      "execution_count": null,
      "outputs": []
    },
    {
      "cell_type": "code",
      "source": [
        "# 3. Сохранение в pickle\n",
        "with open('real_estate_data.pkl', 'wb') as f:\n",
        "    pickle.dump(df, f)"
      ],
      "metadata": {
        "id": "EMhd9pPYUiap"
      },
      "execution_count": null,
      "outputs": []
    },
    {
      "cell_type": "code",
      "source": [
        "# 4. Сохранение в базу данных SQLite\n",
        "engine = create_engine('sqlite:///real_estate_data.db')\n",
        "df.to_sql('real_estate', engine, index=False, if_exists='replace')\n",
        "\n",
        "print(\"Все данные сохранены\")"
      ],
      "metadata": {
        "id": "qcy798mnUjy6"
      },
      "execution_count": null,
      "outputs": []
    },
    {
      "cell_type": "code",
      "source": [
        "# Удаление строк с пропусками в критичных столбцах\n",
        "df = df.dropna(subset=['price', 'square_meter_price', 'region', 'year_built'])\n",
        "\n",
        "# Преобразование типов данных, если необходимо\n",
        "df['price'] = df['price'].astype(float)\n",
        "df['square_meter_price'] = df['square_meter_price'].astype(float)\n",
        "df['year_built'] = df['year_built'].astype(int)"
      ],
      "metadata": {
        "id": "2IV2OKSIYPS-"
      },
      "execution_count": null,
      "outputs": []
    },
    {
      "cell_type": "markdown",
      "source": [
        "Рассчеты и визуализация"
      ],
      "metadata": {
        "id": "mSV6LzM36ZAj"
      }
    },
    {
      "cell_type": "markdown",
      "source": [
        "Средние цены за квадратный метр по регионам"
      ],
      "metadata": {
        "id": "rGV7yRAQ6edz"
      }
    },
    {
      "cell_type": "code",
      "source": [
        "import matplotlib.pyplot as plt\n",
        "import seaborn as sns\n",
        "\n",
        "# Расчет средней цены за квадратный метр по регионам\n",
        "mean_price_per_sqm = df.groupby('region')['square_meter_price'].mean().reset_index()\n",
        "\n",
        "# Визуализация\n",
        "plt.figure(figsize=(10, 6))\n",
        "sns.barplot(x='square_meter_price', y='region', data=mean_price_per_sqm, palette='viridis')\n",
        "plt.xlabel('Средняя цена за квадратный метр')\n",
        "plt.ylabel('Регион')\n",
        "plt.title('Средняя цена за квадратный метр по регионам')\n",
        "plt.show()"
      ],
      "metadata": {
        "colab": {
          "base_uri": "https://localhost:8080/",
          "height": 373
        },
        "id": "gzWn3zx76V-R",
        "outputId": "cd5bbc1e-5cb9-48ee-ea4e-fb348163766b"
      },
      "execution_count": null,
      "outputs": [
        {
          "output_type": "error",
          "ename": "KeyError",
          "evalue": "'region'",
          "traceback": [
            "\u001b[0;31m---------------------------------------------------------------------------\u001b[0m",
            "\u001b[0;31mKeyError\u001b[0m                                  Traceback (most recent call last)",
            "\u001b[0;32m<ipython-input-7-631c9669e4a2>\u001b[0m in \u001b[0;36m<cell line: 5>\u001b[0;34m()\u001b[0m\n\u001b[1;32m      3\u001b[0m \u001b[0;34m\u001b[0m\u001b[0m\n\u001b[1;32m      4\u001b[0m \u001b[0;31m# Расчет средней цены за квадратный метр по регионам\u001b[0m\u001b[0;34m\u001b[0m\u001b[0;34m\u001b[0m\u001b[0m\n\u001b[0;32m----> 5\u001b[0;31m \u001b[0mmean_price_per_sqm\u001b[0m \u001b[0;34m=\u001b[0m \u001b[0mdf\u001b[0m\u001b[0;34m.\u001b[0m\u001b[0mgroupby\u001b[0m\u001b[0;34m(\u001b[0m\u001b[0;34m'region'\u001b[0m\u001b[0;34m)\u001b[0m\u001b[0;34m[\u001b[0m\u001b[0;34m'square_meter_price'\u001b[0m\u001b[0;34m]\u001b[0m\u001b[0;34m.\u001b[0m\u001b[0mmean\u001b[0m\u001b[0;34m(\u001b[0m\u001b[0;34m)\u001b[0m\u001b[0;34m.\u001b[0m\u001b[0mreset_index\u001b[0m\u001b[0;34m(\u001b[0m\u001b[0;34m)\u001b[0m\u001b[0;34m\u001b[0m\u001b[0;34m\u001b[0m\u001b[0m\n\u001b[0m\u001b[1;32m      6\u001b[0m \u001b[0;34m\u001b[0m\u001b[0m\n\u001b[1;32m      7\u001b[0m \u001b[0;31m# Визуализация\u001b[0m\u001b[0;34m\u001b[0m\u001b[0;34m\u001b[0m\u001b[0m\n",
            "\u001b[0;32m/usr/local/lib/python3.10/dist-packages/pandas/core/frame.py\u001b[0m in \u001b[0;36mgroupby\u001b[0;34m(self, by, axis, level, as_index, sort, group_keys, observed, dropna)\u001b[0m\n\u001b[1;32m   8250\u001b[0m         \u001b[0maxis\u001b[0m \u001b[0;34m=\u001b[0m \u001b[0mself\u001b[0m\u001b[0;34m.\u001b[0m\u001b[0m_get_axis_number\u001b[0m\u001b[0;34m(\u001b[0m\u001b[0maxis\u001b[0m\u001b[0;34m)\u001b[0m\u001b[0;34m\u001b[0m\u001b[0;34m\u001b[0m\u001b[0m\n\u001b[1;32m   8251\u001b[0m \u001b[0;34m\u001b[0m\u001b[0m\n\u001b[0;32m-> 8252\u001b[0;31m         return DataFrameGroupBy(\n\u001b[0m\u001b[1;32m   8253\u001b[0m             \u001b[0mobj\u001b[0m\u001b[0;34m=\u001b[0m\u001b[0mself\u001b[0m\u001b[0;34m,\u001b[0m\u001b[0;34m\u001b[0m\u001b[0;34m\u001b[0m\u001b[0m\n\u001b[1;32m   8254\u001b[0m             \u001b[0mkeys\u001b[0m\u001b[0;34m=\u001b[0m\u001b[0mby\u001b[0m\u001b[0;34m,\u001b[0m\u001b[0;34m\u001b[0m\u001b[0;34m\u001b[0m\u001b[0m\n",
            "\u001b[0;32m/usr/local/lib/python3.10/dist-packages/pandas/core/groupby/groupby.py\u001b[0m in \u001b[0;36m__init__\u001b[0;34m(self, obj, keys, axis, level, grouper, exclusions, selection, as_index, sort, group_keys, observed, dropna)\u001b[0m\n\u001b[1;32m    929\u001b[0m \u001b[0;34m\u001b[0m\u001b[0m\n\u001b[1;32m    930\u001b[0m         \u001b[0;32mif\u001b[0m \u001b[0mgrouper\u001b[0m \u001b[0;32mis\u001b[0m \u001b[0;32mNone\u001b[0m\u001b[0;34m:\u001b[0m\u001b[0;34m\u001b[0m\u001b[0;34m\u001b[0m\u001b[0m\n\u001b[0;32m--> 931\u001b[0;31m             grouper, exclusions, obj = get_grouper(\n\u001b[0m\u001b[1;32m    932\u001b[0m                 \u001b[0mobj\u001b[0m\u001b[0;34m,\u001b[0m\u001b[0;34m\u001b[0m\u001b[0;34m\u001b[0m\u001b[0m\n\u001b[1;32m    933\u001b[0m                 \u001b[0mkeys\u001b[0m\u001b[0;34m,\u001b[0m\u001b[0;34m\u001b[0m\u001b[0;34m\u001b[0m\u001b[0m\n",
            "\u001b[0;32m/usr/local/lib/python3.10/dist-packages/pandas/core/groupby/grouper.py\u001b[0m in \u001b[0;36mget_grouper\u001b[0;34m(obj, key, axis, level, sort, observed, validate, dropna)\u001b[0m\n\u001b[1;32m    983\u001b[0m                 \u001b[0min_axis\u001b[0m\u001b[0;34m,\u001b[0m \u001b[0mlevel\u001b[0m\u001b[0;34m,\u001b[0m \u001b[0mgpr\u001b[0m \u001b[0;34m=\u001b[0m \u001b[0;32mFalse\u001b[0m\u001b[0;34m,\u001b[0m \u001b[0mgpr\u001b[0m\u001b[0;34m,\u001b[0m \u001b[0;32mNone\u001b[0m\u001b[0;34m\u001b[0m\u001b[0;34m\u001b[0m\u001b[0m\n\u001b[1;32m    984\u001b[0m             \u001b[0;32melse\u001b[0m\u001b[0;34m:\u001b[0m\u001b[0;34m\u001b[0m\u001b[0;34m\u001b[0m\u001b[0m\n\u001b[0;32m--> 985\u001b[0;31m                 \u001b[0;32mraise\u001b[0m \u001b[0mKeyError\u001b[0m\u001b[0;34m(\u001b[0m\u001b[0mgpr\u001b[0m\u001b[0;34m)\u001b[0m\u001b[0;34m\u001b[0m\u001b[0;34m\u001b[0m\u001b[0m\n\u001b[0m\u001b[1;32m    986\u001b[0m         \u001b[0;32melif\u001b[0m \u001b[0misinstance\u001b[0m\u001b[0;34m(\u001b[0m\u001b[0mgpr\u001b[0m\u001b[0;34m,\u001b[0m \u001b[0mGrouper\u001b[0m\u001b[0;34m)\u001b[0m \u001b[0;32mand\u001b[0m \u001b[0mgpr\u001b[0m\u001b[0;34m.\u001b[0m\u001b[0mkey\u001b[0m \u001b[0;32mis\u001b[0m \u001b[0;32mnot\u001b[0m \u001b[0;32mNone\u001b[0m\u001b[0;34m:\u001b[0m\u001b[0;34m\u001b[0m\u001b[0;34m\u001b[0m\u001b[0m\n\u001b[1;32m    987\u001b[0m             \u001b[0;31m# Add key to exclusions\u001b[0m\u001b[0;34m\u001b[0m\u001b[0;34m\u001b[0m\u001b[0m\n",
            "\u001b[0;31mKeyError\u001b[0m: 'region'"
          ]
        }
      ]
    },
    {
      "cell_type": "markdown",
      "source": [
        "Объемы вводимого жилья по регионам и по годам"
      ],
      "metadata": {
        "id": "A-Ho5iuJ6hTf"
      }
    },
    {
      "cell_type": "code",
      "source": [
        "# Расчет объема вводимого жилья по регионам и по годам\n",
        "volume_by_region_year = df.groupby(['region', 'year_built']).size().reset_index(name='count')\n",
        "\n",
        "# Визуализация\n",
        "plt.figure(figsize=(12, 8))\n",
        "sns.lineplot(x='year_built', y='count', hue='region', data=volume_by_region_year, palette='tab10')\n",
        "plt.xlabel('Год')\n",
        "plt.ylabel('Объем вводимого жилья')\n",
        "plt.title('Объемы вводимого жилья по регионам и по годам')\n",
        "plt.legend(title='Регион')\n",
        "plt.show()"
      ],
      "metadata": {
        "id": "ab68sTF36h57"
      },
      "execution_count": null,
      "outputs": []
    },
    {
      "cell_type": "markdown",
      "source": [
        "Сравнение этажности домов, количества квартир, жилой площади, количества парковочных мест и цены за квадратный метр в разных регионах"
      ],
      "metadata": {
        "id": "l-3wz1An6liO"
      }
    },
    {
      "cell_type": "code",
      "source": [
        "# Сравнение различных параметров по регионам\n",
        "metrics = ['floors', 'number_of_flats', 'living_area', 'parking_spaces', 'square_meter_price']\n",
        "for metric in metrics:\n",
        "    plt.figure(figsize=(10, 6))\n",
        "    sns.boxplot(x='region', y=metric, data=df, palette='muted')\n",
        "    plt.xlabel('Регион')\n",
        "    plt.ylabel(metric)\n",
        "    plt.title(f'{metric} по регионам')\n",
        "    plt.xticks(rotation=90)\n",
        "    plt.show()"
      ],
      "metadata": {
        "id": "p_9XsFCr6jLI"
      },
      "execution_count": null,
      "outputs": []
    },
    {
      "cell_type": "markdown",
      "source": [
        "Выводы\n",
        "\n",
        "На основании расчетов и визуализаций мы можем сделать следующие выводы:\n",
        "\n",
        "1. Средние цены за квадратный метр по регионам: Выявлены регионы с наиболее высокими и низкими средними ценами за квадратный метр. Это может указывать на различия в уровне жизни и спросе на жилье в разных регионах.\n",
        "\n",
        "2. Объемы вводимого жилья по регионам и по годам: Наблюдаются тенденции увеличения или уменьшения объема вводимого жилья в зависимости от регионов и лет. Это может быть связано с экономическими условиями и демографическими изменениями.\n",
        "\n",
        "3. Сравнение этажности домов, количества квартир, жилой площади, количества парковочных мест и цены за квадратный метр в разных регионах: Сравнение этих параметров позволяет выявить особенности строительства и застройки в разных регионах, что может быть полезно для застройщиков и покупателей жилья."
      ],
      "metadata": {
        "id": "ZHL6maYx6npC"
      }
    }
  ]
}