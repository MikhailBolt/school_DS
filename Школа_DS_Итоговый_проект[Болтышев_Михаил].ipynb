{
  "cells": [
    {
      "cell_type": "markdown",
      "metadata": {
        "id": "view-in-github",
        "colab_type": "text"
      },
      "source": [
        "<a href=\"https://colab.research.google.com/github/MikhailBolt/school_DS/blob/main/%D0%A8%D0%BA%D0%BE%D0%BB%D0%B0_DS_%D0%98%D1%82%D0%BE%D0%B3%D0%BE%D0%B2%D1%8B%D0%B9_%D0%BF%D1%80%D0%BE%D0%B5%D0%BA%D1%82%5B%D0%91%D0%BE%D0%BB%D1%82%D1%8B%D1%88%D0%B5%D0%B2_%D0%9C%D0%B8%D1%85%D0%B0%D0%B8%D0%BB%5D.ipynb\" target=\"_parent\"><img src=\"https://colab.research.google.com/assets/colab-badge.svg\" alt=\"Open In Colab\"/></a>"
      ]
    },
    {
      "cell_type": "markdown",
      "id": "LpbGRVRu-z4E",
      "metadata": {
        "id": "LpbGRVRu-z4E"
      },
      "source": [
        "Дейтинг-индустрия\n",
        "https://cloud.mail.ru/public/yvsP/gcRYW5qC4\n",
        "1. В ноутбуке “sample reader edges .ipynb” - описание колонок и задача\n",
        "2. Дополнительно:\n",
        "a. Необходимо сформировать 2 колоды пользователей для каждого:\n",
        "i. Те, которых пользователь с максимальной вероятностью лайкнет\n",
        "ii. Те, с кем максимальной вероятностью будет мэтч (взаимный\n",
        "лайк)\n",
        "b. Упаковать в сервис по API (flask)"
      ]
    },
    {
      "cell_type": "markdown",
      "id": "222e9358",
      "metadata": {
        "id": "222e9358"
      },
      "source": [
        "При взаимном лайке возникает возможность общения\n",
        "\n",
        "Для упрощения можно допустить: если rating >=6, то это лайк, иначе - дизлайк\n",
        "\n",
        "Необходимо написать код, который поможет найти для следуюших пользователей, которые они с максимальной вероятностью залайкают (за вычетом известных в датасете пар). Для каждого id - не более 10 пользователей\n",
        "\n",
        "id: 98447, 111944, 111930, 82091, 125299, 125298, 17335, 60356"
      ]
    },
    {
      "cell_type": "code",
      "source": [
        "import pandas as pd\n",
        "import numpy as np\n",
        "from scipy.stats import pearsonr"
      ],
      "metadata": {
        "id": "ztzQqQCMOlOn"
      },
      "id": "ztzQqQCMOlOn",
      "execution_count": null,
      "outputs": []
    },
    {
      "cell_type": "code",
      "execution_count": null,
      "id": "c15cde7f",
      "metadata": {
        "id": "c15cde7f",
        "colab": {
          "base_uri": "https://localhost:8080/"
        },
        "outputId": "4c042bd7-cd3a-471e-cce1-020f2eb93851"
      },
      "outputs": [
        {
          "output_type": "stream",
          "name": "stderr",
          "text": [
            "<ipython-input-2-8834fe1b7076>:14: FutureWarning: The 'delim_whitespace' keyword in pd.read_csv is deprecated and will be removed in a future version. Use ``sep='\\s+'`` instead\n",
            "  ratings  = pd.read_csv(\"rec-libimseti-dir.edges\", delim_whitespace=True, skiprows=1, names=[\"id_from\", \"id_to\", \"rating\"])\n"
          ]
        }
      ],
      "source": [
        "#Заргужаем даныне\n",
        "\n",
        "# В датасете данные о пользователе\n",
        "# 1ая колонка id\n",
        "# 2ая колонка gender: \"M\" - male, \"F\" - female,  \"U\" - unknown\n",
        "# по остальным колонкам недоступна информация\n",
        "#df_info = pd.read_csv('info.csv')\n",
        "# В датасете данные, как пользователь с id_from оценил (rating) пользователя id_to\n",
        "#df_ratings = pd.read_csv(\"rec-libimseti-dir.edges\", delim_whitespace=True, skiprows=1, names=[\"id_from\", \"id_to\", \"rating\"])\n",
        "\n",
        "# Загрузка данных\n",
        "# В датасете данные, как пользователь с id_from оценил (rating) пользователя id_to\n",
        "\n",
        "users  = pd.read_csv('info.csv')\n",
        "ratings  = pd.read_csv(\"rec-libimseti-dir.edges\", delim_whitespace=True, skiprows=1, names=[\"id_from\", \"id_to\", \"rating\"])"
      ]
    },
    {
      "cell_type": "code",
      "source": [
        "users.columns = users.columns.str.strip()"
      ],
      "metadata": {
        "id": "knklQvwh8SUx"
      },
      "id": "knklQvwh8SUx",
      "execution_count": null,
      "outputs": []
    },
    {
      "cell_type": "code",
      "execution_count": null,
      "id": "Vk4QCr-zLjqz",
      "metadata": {
        "id": "Vk4QCr-zLjqz",
        "colab": {
          "base_uri": "https://localhost:8080/"
        },
        "outputId": "ab97bec2-e3e6-45bf-f051-1292c71d8728"
      },
      "outputs": [
        {
          "output_type": "execute_result",
          "data": {
            "text/plain": [
              "(   id gender  1   2   3   4   5   6   7   8   9  10  11        12\n",
              " 0   1      F  1  45  90  15   8  13  63  57  96  42  87  0.934487\n",
              " 1   2      F  1  46  81   6   9  31  22  79  82  75  53  0.675761\n",
              " 2   3      U  4  69  64   2  18  44  54  80  50  89  38  0.927339\n",
              " 3   4      F  3  46  90   9  42  54  59  86  60  65  25  0.176650\n",
              " 4   5      F  3  79  83   1  45  57   1  58  34  23  33  0.553003,\n",
              " Index(['id', 'gender', '1', '2', '3', '4', '5', '6', '7', '8', '9', '10', '11',\n",
              "        '12'],\n",
              "       dtype='object'))"
            ]
          },
          "metadata": {},
          "execution_count": 4
        }
      ],
      "source": [
        "# Посмотрим на первые несколько строк каждого файла для анализа структуры данных\n",
        "users.head(), users.columns"
      ]
    },
    {
      "cell_type": "code",
      "execution_count": null,
      "id": "ef0fa2d1",
      "metadata": {
        "id": "ef0fa2d1",
        "colab": {
          "base_uri": "https://localhost:8080/",
          "height": 206
        },
        "outputId": "26aa78da-443a-4d0e-9b3b-7839173b96ed"
      },
      "outputs": [
        {
          "output_type": "execute_result",
          "data": {
            "text/plain": [
              "   id_from  id_to  rating\n",
              "0        1    133       8\n",
              "1        1    720       6\n",
              "2        1    971      10\n",
              "3        1   1095       7\n",
              "4        1   1616      10"
            ],
            "text/html": [
              "\n",
              "  <div id=\"df-000e276f-14fd-46a9-ba48-3d5c78db1ea1\" class=\"colab-df-container\">\n",
              "    <div>\n",
              "<style scoped>\n",
              "    .dataframe tbody tr th:only-of-type {\n",
              "        vertical-align: middle;\n",
              "    }\n",
              "\n",
              "    .dataframe tbody tr th {\n",
              "        vertical-align: top;\n",
              "    }\n",
              "\n",
              "    .dataframe thead th {\n",
              "        text-align: right;\n",
              "    }\n",
              "</style>\n",
              "<table border=\"1\" class=\"dataframe\">\n",
              "  <thead>\n",
              "    <tr style=\"text-align: right;\">\n",
              "      <th></th>\n",
              "      <th>id_from</th>\n",
              "      <th>id_to</th>\n",
              "      <th>rating</th>\n",
              "    </tr>\n",
              "  </thead>\n",
              "  <tbody>\n",
              "    <tr>\n",
              "      <th>0</th>\n",
              "      <td>1</td>\n",
              "      <td>133</td>\n",
              "      <td>8</td>\n",
              "    </tr>\n",
              "    <tr>\n",
              "      <th>1</th>\n",
              "      <td>1</td>\n",
              "      <td>720</td>\n",
              "      <td>6</td>\n",
              "    </tr>\n",
              "    <tr>\n",
              "      <th>2</th>\n",
              "      <td>1</td>\n",
              "      <td>971</td>\n",
              "      <td>10</td>\n",
              "    </tr>\n",
              "    <tr>\n",
              "      <th>3</th>\n",
              "      <td>1</td>\n",
              "      <td>1095</td>\n",
              "      <td>7</td>\n",
              "    </tr>\n",
              "    <tr>\n",
              "      <th>4</th>\n",
              "      <td>1</td>\n",
              "      <td>1616</td>\n",
              "      <td>10</td>\n",
              "    </tr>\n",
              "  </tbody>\n",
              "</table>\n",
              "</div>\n",
              "    <div class=\"colab-df-buttons\">\n",
              "\n",
              "  <div class=\"colab-df-container\">\n",
              "    <button class=\"colab-df-convert\" onclick=\"convertToInteractive('df-000e276f-14fd-46a9-ba48-3d5c78db1ea1')\"\n",
              "            title=\"Convert this dataframe to an interactive table.\"\n",
              "            style=\"display:none;\">\n",
              "\n",
              "  <svg xmlns=\"http://www.w3.org/2000/svg\" height=\"24px\" viewBox=\"0 -960 960 960\">\n",
              "    <path d=\"M120-120v-720h720v720H120Zm60-500h600v-160H180v160Zm220 220h160v-160H400v160Zm0 220h160v-160H400v160ZM180-400h160v-160H180v160Zm440 0h160v-160H620v160ZM180-180h160v-160H180v160Zm440 0h160v-160H620v160Z\"/>\n",
              "  </svg>\n",
              "    </button>\n",
              "\n",
              "  <style>\n",
              "    .colab-df-container {\n",
              "      display:flex;\n",
              "      gap: 12px;\n",
              "    }\n",
              "\n",
              "    .colab-df-convert {\n",
              "      background-color: #E8F0FE;\n",
              "      border: none;\n",
              "      border-radius: 50%;\n",
              "      cursor: pointer;\n",
              "      display: none;\n",
              "      fill: #1967D2;\n",
              "      height: 32px;\n",
              "      padding: 0 0 0 0;\n",
              "      width: 32px;\n",
              "    }\n",
              "\n",
              "    .colab-df-convert:hover {\n",
              "      background-color: #E2EBFA;\n",
              "      box-shadow: 0px 1px 2px rgba(60, 64, 67, 0.3), 0px 1px 3px 1px rgba(60, 64, 67, 0.15);\n",
              "      fill: #174EA6;\n",
              "    }\n",
              "\n",
              "    .colab-df-buttons div {\n",
              "      margin-bottom: 4px;\n",
              "    }\n",
              "\n",
              "    [theme=dark] .colab-df-convert {\n",
              "      background-color: #3B4455;\n",
              "      fill: #D2E3FC;\n",
              "    }\n",
              "\n",
              "    [theme=dark] .colab-df-convert:hover {\n",
              "      background-color: #434B5C;\n",
              "      box-shadow: 0px 1px 3px 1px rgba(0, 0, 0, 0.15);\n",
              "      filter: drop-shadow(0px 1px 2px rgba(0, 0, 0, 0.3));\n",
              "      fill: #FFFFFF;\n",
              "    }\n",
              "  </style>\n",
              "\n",
              "    <script>\n",
              "      const buttonEl =\n",
              "        document.querySelector('#df-000e276f-14fd-46a9-ba48-3d5c78db1ea1 button.colab-df-convert');\n",
              "      buttonEl.style.display =\n",
              "        google.colab.kernel.accessAllowed ? 'block' : 'none';\n",
              "\n",
              "      async function convertToInteractive(key) {\n",
              "        const element = document.querySelector('#df-000e276f-14fd-46a9-ba48-3d5c78db1ea1');\n",
              "        const dataTable =\n",
              "          await google.colab.kernel.invokeFunction('convertToInteractive',\n",
              "                                                    [key], {});\n",
              "        if (!dataTable) return;\n",
              "\n",
              "        const docLinkHtml = 'Like what you see? Visit the ' +\n",
              "          '<a target=\"_blank\" href=https://colab.research.google.com/notebooks/data_table.ipynb>data table notebook</a>'\n",
              "          + ' to learn more about interactive tables.';\n",
              "        element.innerHTML = '';\n",
              "        dataTable['output_type'] = 'display_data';\n",
              "        await google.colab.output.renderOutput(dataTable, element);\n",
              "        const docLink = document.createElement('div');\n",
              "        docLink.innerHTML = docLinkHtml;\n",
              "        element.appendChild(docLink);\n",
              "      }\n",
              "    </script>\n",
              "  </div>\n",
              "\n",
              "\n",
              "<div id=\"df-fb5d8eeb-afa1-4acb-a8f9-031a0f7cfac9\">\n",
              "  <button class=\"colab-df-quickchart\" onclick=\"quickchart('df-fb5d8eeb-afa1-4acb-a8f9-031a0f7cfac9')\"\n",
              "            title=\"Suggest charts\"\n",
              "            style=\"display:none;\">\n",
              "\n",
              "<svg xmlns=\"http://www.w3.org/2000/svg\" height=\"24px\"viewBox=\"0 0 24 24\"\n",
              "     width=\"24px\">\n",
              "    <g>\n",
              "        <path d=\"M19 3H5c-1.1 0-2 .9-2 2v14c0 1.1.9 2 2 2h14c1.1 0 2-.9 2-2V5c0-1.1-.9-2-2-2zM9 17H7v-7h2v7zm4 0h-2V7h2v10zm4 0h-2v-4h2v4z\"/>\n",
              "    </g>\n",
              "</svg>\n",
              "  </button>\n",
              "\n",
              "<style>\n",
              "  .colab-df-quickchart {\n",
              "      --bg-color: #E8F0FE;\n",
              "      --fill-color: #1967D2;\n",
              "      --hover-bg-color: #E2EBFA;\n",
              "      --hover-fill-color: #174EA6;\n",
              "      --disabled-fill-color: #AAA;\n",
              "      --disabled-bg-color: #DDD;\n",
              "  }\n",
              "\n",
              "  [theme=dark] .colab-df-quickchart {\n",
              "      --bg-color: #3B4455;\n",
              "      --fill-color: #D2E3FC;\n",
              "      --hover-bg-color: #434B5C;\n",
              "      --hover-fill-color: #FFFFFF;\n",
              "      --disabled-bg-color: #3B4455;\n",
              "      --disabled-fill-color: #666;\n",
              "  }\n",
              "\n",
              "  .colab-df-quickchart {\n",
              "    background-color: var(--bg-color);\n",
              "    border: none;\n",
              "    border-radius: 50%;\n",
              "    cursor: pointer;\n",
              "    display: none;\n",
              "    fill: var(--fill-color);\n",
              "    height: 32px;\n",
              "    padding: 0;\n",
              "    width: 32px;\n",
              "  }\n",
              "\n",
              "  .colab-df-quickchart:hover {\n",
              "    background-color: var(--hover-bg-color);\n",
              "    box-shadow: 0 1px 2px rgba(60, 64, 67, 0.3), 0 1px 3px 1px rgba(60, 64, 67, 0.15);\n",
              "    fill: var(--button-hover-fill-color);\n",
              "  }\n",
              "\n",
              "  .colab-df-quickchart-complete:disabled,\n",
              "  .colab-df-quickchart-complete:disabled:hover {\n",
              "    background-color: var(--disabled-bg-color);\n",
              "    fill: var(--disabled-fill-color);\n",
              "    box-shadow: none;\n",
              "  }\n",
              "\n",
              "  .colab-df-spinner {\n",
              "    border: 2px solid var(--fill-color);\n",
              "    border-color: transparent;\n",
              "    border-bottom-color: var(--fill-color);\n",
              "    animation:\n",
              "      spin 1s steps(1) infinite;\n",
              "  }\n",
              "\n",
              "  @keyframes spin {\n",
              "    0% {\n",
              "      border-color: transparent;\n",
              "      border-bottom-color: var(--fill-color);\n",
              "      border-left-color: var(--fill-color);\n",
              "    }\n",
              "    20% {\n",
              "      border-color: transparent;\n",
              "      border-left-color: var(--fill-color);\n",
              "      border-top-color: var(--fill-color);\n",
              "    }\n",
              "    30% {\n",
              "      border-color: transparent;\n",
              "      border-left-color: var(--fill-color);\n",
              "      border-top-color: var(--fill-color);\n",
              "      border-right-color: var(--fill-color);\n",
              "    }\n",
              "    40% {\n",
              "      border-color: transparent;\n",
              "      border-right-color: var(--fill-color);\n",
              "      border-top-color: var(--fill-color);\n",
              "    }\n",
              "    60% {\n",
              "      border-color: transparent;\n",
              "      border-right-color: var(--fill-color);\n",
              "    }\n",
              "    80% {\n",
              "      border-color: transparent;\n",
              "      border-right-color: var(--fill-color);\n",
              "      border-bottom-color: var(--fill-color);\n",
              "    }\n",
              "    90% {\n",
              "      border-color: transparent;\n",
              "      border-bottom-color: var(--fill-color);\n",
              "    }\n",
              "  }\n",
              "</style>\n",
              "\n",
              "  <script>\n",
              "    async function quickchart(key) {\n",
              "      const quickchartButtonEl =\n",
              "        document.querySelector('#' + key + ' button');\n",
              "      quickchartButtonEl.disabled = true;  // To prevent multiple clicks.\n",
              "      quickchartButtonEl.classList.add('colab-df-spinner');\n",
              "      try {\n",
              "        const charts = await google.colab.kernel.invokeFunction(\n",
              "            'suggestCharts', [key], {});\n",
              "      } catch (error) {\n",
              "        console.error('Error during call to suggestCharts:', error);\n",
              "      }\n",
              "      quickchartButtonEl.classList.remove('colab-df-spinner');\n",
              "      quickchartButtonEl.classList.add('colab-df-quickchart-complete');\n",
              "    }\n",
              "    (() => {\n",
              "      let quickchartButtonEl =\n",
              "        document.querySelector('#df-fb5d8eeb-afa1-4acb-a8f9-031a0f7cfac9 button');\n",
              "      quickchartButtonEl.style.display =\n",
              "        google.colab.kernel.accessAllowed ? 'block' : 'none';\n",
              "    })();\n",
              "  </script>\n",
              "</div>\n",
              "    </div>\n",
              "  </div>\n"
            ],
            "application/vnd.google.colaboratory.intrinsic+json": {
              "type": "dataframe",
              "variable_name": "ratings"
            }
          },
          "metadata": {},
          "execution_count": 5
        }
      ],
      "source": [
        "ratings.head()"
      ]
    },
    {
      "cell_type": "code",
      "source": [
        "# Преобразуем таблицу с рейтингами в формат для удобного анализа\n",
        "\n",
        "likes = ratings[ratings['rating'] >= 6]\n",
        "dislikes = ratings[ratings['rating'] < 6]"
      ],
      "metadata": {
        "id": "djb5446F1rzR"
      },
      "id": "djb5446F1rzR",
      "execution_count": null,
      "outputs": []
    },
    {
      "cell_type": "code",
      "source": [
        "# Функция для вычисления похожих пользователей по коэффициенту Пирсона\n",
        "def get_similar_users(user_id, target_ids, user_data, n=10):\n",
        "    similarities = []\n",
        "    target_user_data = user_data[user_data['id'] == user_id].drop(['id', 'gender'], axis=1).values.flatten()\n",
        "\n",
        "    for target_id in target_ids:\n",
        "        if target_id == user_id:\n",
        "            continue  # Пропускаем самого пользователя\n",
        "        target_data = user_data[user_data['id'] == target_id].drop(['id', 'gender'], axis=1).values.flatten()\n",
        "        # Коэффициент корреляции Пирсона\n",
        "        correlation, _ = pearsonr(target_user_data, target_data)\n",
        "        similarities.append((target_id, correlation))\n",
        "\n",
        "    # Сортировка по убыванию коэффициента корреляции\n",
        "    sorted_similarities = sorted(similarities, key=lambda x: x[1], reverse=True)\n",
        "    return sorted_similarities[:n]"
      ],
      "metadata": {
        "id": "1KvMoghZ5moZ"
      },
      "id": "1KvMoghZ5moZ",
      "execution_count": null,
      "outputs": []
    },
    {
      "cell_type": "code",
      "source": [
        "# Пример получения похожих пользователей для одного из целевых ID\n",
        "target_user_id = 98447\n",
        "target_ids = users['id'].tolist()\n",
        "recommendations = get_similar_users(target_user_id, target_ids, users)\n",
        "recommendations"
      ],
      "metadata": {
        "colab": {
          "base_uri": "https://localhost:8080/"
        },
        "id": "Xdu_ksWQ6CvI",
        "outputId": "fda2eaa1-19f2-4bad-f9ed-3b2761a9678a"
      },
      "id": "Xdu_ksWQ6CvI",
      "execution_count": null,
      "outputs": [
        {
          "output_type": "execute_result",
          "data": {
            "text/plain": [
              "[(173060, 0.9847972974638955),\n",
              " (167562, 0.9798095166352936),\n",
              " (163170, 0.9768664822482619),\n",
              " (92303, 0.9748919392843226),\n",
              " (64228, 0.9732145551966102),\n",
              " (135805, 0.971593799410988),\n",
              " (84517, 0.9709362055217698),\n",
              " (165608, 0.9706385031728323),\n",
              " (183885, 0.9703469203915995),\n",
              " (193429, 0.9692144568770185)]"
            ]
          },
          "metadata": {},
          "execution_count": 8
        }
      ]
    },
    {
      "cell_type": "code",
      "source": [
        "def recommend_likes_and_matches(target_ids, likes_df, user_df, n=10):\n",
        "    recommendations = {}\n",
        "\n",
        "    for user_id in target_ids:\n",
        "        # 1. Найдем похожих пользователей по коэффициенту Пирсона\n",
        "        similar_users = get_similar_users(user_id, user_df['id'].tolist(), user_df, n)\n",
        "\n",
        "        # 2. Колода для вероятного лайка\n",
        "        like_deck = [u[0] for u in similar_users if u[1] > 0]  # выбираем пользователей с положительной корреляцией\n",
        "\n",
        "        # 3. Колода для мэтчей (взаимных лайков)\n",
        "        match_deck = []\n",
        "        user_likes = set(likes_df[likes_df['id_from'] == user_id]['id_to'])\n",
        "\n",
        "        for u, similarity in similar_users:\n",
        "            target_likes = set(likes_df[likes_df['id_from'] == u]['id_to'])\n",
        "            if user_id in target_likes and u in user_likes:\n",
        "                match_deck.append(u)\n",
        "\n",
        "        # Оставляем максимум по 10 рекомендаций\n",
        "        recommendations[user_id] = {\n",
        "            \"likely_to_like\": like_deck[:n],\n",
        "            \"likely_to_match\": match_deck[:n]\n",
        "        }\n",
        "\n",
        "    return recommendations\n",
        "\n",
        "# Целевые пользователи\n",
        "target_user_ids = [98447, 111944, 111930, 82091, 125299, 125298, 17335, 60356]\n",
        "\n",
        "# Получение рекомендаций\n",
        "recommendations = recommend_likes_and_matches(target_user_ids, likes, users)\n",
        "print(recommendations)"
      ],
      "metadata": {
        "id": "cUjstPUo6W96",
        "colab": {
          "base_uri": "https://localhost:8080/"
        },
        "outputId": "b7aa7120-6f97-4c88-f191-616b97df7adf"
      },
      "id": "cUjstPUo6W96",
      "execution_count": null,
      "outputs": [
        {
          "output_type": "stream",
          "name": "stdout",
          "text": [
            "{98447: {'likely_to_like': [173060, 167562, 163170, 92303, 64228, 135805, 84517, 165608, 183885, 193429], 'likely_to_match': []}, 111944: {'likely_to_like': [206580, 82645, 147378, 79617, 194211, 19160, 69727, 105177, 153346, 204267], 'likely_to_match': []}, 111930: {'likely_to_like': [164190, 142033, 30095, 29861, 203727, 129816, 171691, 77253, 150333, 61251], 'likely_to_match': []}, 82091: {'likely_to_like': [35180, 170714, 188572, 10706, 7388, 212990, 12270, 24846, 96671, 52993], 'likely_to_match': []}, 125299: {'likely_to_like': [210285, 90728, 204654, 150417, 31937, 141975, 72946, 86165, 111810, 14994], 'likely_to_match': []}, 125298: {'likely_to_like': [78141, 193950, 105569, 199178, 168340, 167912, 171965, 132788, 86250, 699], 'likely_to_match': []}, 17335: {'likely_to_like': [39721, 91897, 53562, 70277, 215389, 6978, 74060, 18166, 72171, 210318], 'likely_to_match': []}, 60356: {'likely_to_like': [220492, 70895, 140146, 82327, 151988, 190641, 28718, 205879, 34554, 49958], 'likely_to_match': []}}\n"
          ]
        }
      ]
    }
  ],
  "metadata": {
    "colab": {
      "provenance": [],
      "gpuType": "T4",
      "include_colab_link": true
    },
    "kernelspec": {
      "display_name": "Python 3",
      "name": "python3"
    },
    "language_info": {
      "codemirror_mode": {
        "name": "ipython",
        "version": 3
      },
      "file_extension": ".py",
      "mimetype": "text/x-python",
      "name": "python",
      "nbconvert_exporter": "python",
      "pygments_lexer": "ipython3",
      "version": "3.8.10"
    },
    "accelerator": "GPU"
  },
  "nbformat": 4,
  "nbformat_minor": 5
}